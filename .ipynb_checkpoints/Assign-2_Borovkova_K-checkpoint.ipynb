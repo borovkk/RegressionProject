{
 "cells": [
  {
   "cell_type": "code",
   "execution_count": 38,
   "metadata": {},
   "outputs": [],
   "source": [
    "# Python ≥3.5 is required\n",
    "import sys\n",
    "assert sys.version_info >= (3, 5)\n",
    "\n",
    "# Scikit-Learn ≥0.20 is required\n",
    "import sklearn\n",
    "assert sklearn.__version__ >= \"0.20\"\n",
    "\n",
    "# Common imports\n",
    "import numpy as np\n",
    "import os\n",
    "\n",
    "# to make this notebook's output stable across runs\n",
    "np.random.seed(42)\n",
    "\n",
    "# To plot pretty figures\n",
    "%matplotlib inline\n",
    "import matplotlib as mpl\n",
    "import matplotlib.pyplot as plt\n",
    "mpl.rc('axes', labelsize=14)\n",
    "mpl.rc('xtick', labelsize=12)\n",
    "mpl.rc('ytick', labelsize=12)\n"
   ]
  },
  {
   "cell_type": "markdown",
   "metadata": {},
   "source": [
    "# Data generating processes\n",
    "\n",
    "The data will come from either of two types of sources. \n",
    "\n",
    "1. Linear combination of sines and cosines\n",
    "2. Linear combination of Legendre polynomials\n",
    "\n",
    "defined on the interal $t \\in [-\\frac 1 2, +\\frac 1 2]$"
   ]
  },
  {
   "cell_type": "markdown",
   "metadata": {},
   "source": [
    "## Family 1: Sines and Cosines (Fourier Series)"
   ]
  },
  {
   "cell_type": "code",
   "execution_count": 2,
   "metadata": {},
   "outputs": [
    {
     "data": {
      "text/plain": [
       "[<matplotlib.lines.Line2D at 0x7fbeabc366a0>]"
      ]
     },
     "execution_count": 2,
     "metadata": {},
     "output_type": "execute_result"
    },
    {
     "data": {
      "image/png": "[encoded data removed]",
      "text/plain": [
       "<Figure size 432x288 with 1 Axes>"
      ]
     },
     "metadata": {
      "needs_background": "light"
     },
     "output_type": "display_data"
    }
   ],
   "source": [
    "# produce training data\n",
    "sigma = 0.1\n",
    "n = 200\n",
    "np.random.seed(3)\n",
    "t = np.random.rand(n) - 0.5\n",
    "noise = sigma * np.random.randn(n)\n",
    "\n",
    "t = np.random.rand(n) - 0.5\n",
    "\n",
    "def features(t, p, n):\n",
    "    return np.stack(\n",
    "        [np.cos(f * 2*np.pi*t) for f in range(0, (p+1)//2)] +\n",
    "        [np.sin(f * 2*np.pi*t) for f in range(1, (p+2)//2)])\n",
    "\n",
    "p = 6   # number of features\n",
    "X = features(t, p, n)  \n",
    "theta = 0.1*np.random.randn(p)\n",
    "y = theta @ X + noise   # training data \n",
    "\n",
    "plt.plot(t, y, '.')"
   ]
  },
  {
   "cell_type": "code",
   "execution_count": 3,
   "metadata": {},
   "outputs": [],
   "source": [
    "t = np.round(t, 2)\n",
    "y = np.round(y, 2)"
   ]
  },
  {
   "cell_type": "code",
   "execution_count": 4,
   "metadata": {},
   "outputs": [
    {
     "data": {
      "text/plain": [
       "[<matplotlib.lines.Line2D at 0x7fbeabd26490>]"
      ]
     },
     "execution_count": 4,
     "metadata": {},
     "output_type": "execute_result"
    },
    {
     "data": {
      "image/png": "[encoded data removed]",
      "text/plain": [
       "<Figure size 432x288 with 1 Axes>"
      ]
     },
     "metadata": {
      "needs_background": "light"
     },
     "output_type": "display_data"
    }
   ],
   "source": [
    "plt.plot(t, y, '.')"
   ]
  },
  {
   "cell_type": "markdown",
   "metadata": {},
   "source": [
    "## Family 2: Legendre Polynomials"
   ]
  },
  {
   "cell_type": "code",
   "execution_count": 5,
   "metadata": {},
   "outputs": [
    {
     "data": {
      "text/plain": [
       "[<matplotlib.lines.Line2D at 0x7fbeac0150d0>]"
      ]
     },
     "execution_count": 5,
     "metadata": {},
     "output_type": "execute_result"
    },
    {
     "data": {
      "image/png": "[encoded data removed]",
      "text/plain": [
       "<Figure size 432x288 with 1 Axes>"
      ]
     },
     "metadata": {
      "needs_background": "light"
     },
     "output_type": "display_data"
    }
   ],
   "source": [
    "from scipy.special import legendre\n",
    "\n",
    "# produce training data\n",
    "\n",
    "sigma = 0.1\n",
    "n = 200\n",
    "np.random.seed(3)\n",
    "t = np.random.rand(n) - 0.5\n",
    "noise = sigma * np.random.randn(n)\n",
    "\n",
    "def features(t, p, n):\n",
    "    return np.stack(\n",
    "        [legendre(d)(t) for d in range(p)])\n",
    "\n",
    "p = 6  # number of features\n",
    "X = features(t, p, n)\n",
    "theta = 0.4*np.random.randn(p)\n",
    "y = theta @ X + noise   # training data \n",
    "\n",
    "plt.plot(t, y, '.')"
   ]
  },
  {
   "cell_type": "markdown",
   "metadata": {},
   "source": [
    "# Assignment \n",
    "\n",
    "Due Oct 29\n",
    "\n",
    "Given some points $(t, y)$, find the model that will predict $y$ from $t$ for new data sampled from the same process. Assume Gaussian noise. Assume that the data are \n",
    "\n",
    "The data come from one of the models above but the degree `p` is unknown. "
   ]
  },
  {
   "cell_type": "code",
   "execution_count": 6,
   "metadata": {},
   "outputs": [],
   "source": [
    "t = np.array([-0.49,  0.48, -0.19,  0.24, -0.08,  0.49, -0.21, -0.16, -0.13,\n",
    "        0.5 ,  0.09,  0.14, -0.27,  0.01,  0.37, -0.42, -0.45, -0.14,\n",
    "        0.17,  0.14, -0.38,  0.18, -0.45, -0.3 , -0.12,  0.02, -0.11,\n",
    "        0.38, -0.01,  0.12,  0.44,  0.32,  0.2 , -0.26,  0.04,  0.23,\n",
    "        0.18,  0.14,  0.15, -0.21, -0.41,  0.06, -0.25, -0.31, -0.42,\n",
    "       -0.09,  0.34, -0.05,  0.21,  0.26,  0.27,  0.27, -0.28, -0.49,\n",
    "        0.01,  0.29, -0.15,  0.34,  0.49,  0.03, -0.12,  0.15, -0.02,\n",
    "       -0.02,  0.24,  0.47, -0.06,  0.34, -0.29, -0.43, -0.09,  0.14,\n",
    "        0.23,  0.23,  0.08,  0.12, -0.42, -0.12, -0.19,  0.45, -0.36,\n",
    "       -0.08,  0.13, -0.16,  0.23,  0.44,  0.5 , -0.3 ,  0.45, -0.24,\n",
    "       -0.42,  0.28,  0.11, -0.47,  0.11, -0.27,  0.41,  0.46, -0.36,\n",
    "       -0.32, -0.05,  0.45, -0.08, -0.39, -0.34, -0.37,  0.32, -0.24,\n",
    "       -0.44, -0.03, -0.4 ,  0.47,  0.27, -0.32, -0.2 , -0.37, -0.13,\n",
    "       -0.07,  0.08, -0.44, -0.44,  0.43, -0.04,  0.09,  0.35, -0.02,\n",
    "       -0.12,  0.42, -0.39, -0.25, -0.45,  0.44, -0.02,  0.31, -0.48,\n",
    "        0.23, -0.07, -0.17,  0.4 ,  0.35, -0.2 ,  0.45, -0.1 ,  0.17,\n",
    "        0.21, -0.11, -0.3 ,  0.48,  0.31,  0.21,  0.2 ,  0.27,  0.47,\n",
    "       -0.39,  0.46,  0.31,  0.23,  0.5 , -0.43,  0.13, -0.34,  0.02,\n",
    "       -0.27,  0.3 , -0.18,  0.41,  0.17, -0.15,  0.29, -0.05, -0.39,\n",
    "        0.25,  0.28,  0.02, -0.21,  0.11,  0.16,  0.47,  0.1 ,  0.03,\n",
    "        0.22,  0.43,  0.16, -0.21, -0.16,  0.39,  0.25,  0.04, -0.4 ,\n",
    "        0.22,  0.46,  0.12,  0.15,  0.48, -0.48, -0.15, -0.42,  0.28,\n",
    "       -0.36,  0.31])\n"
   ]
  },
  {
   "cell_type": "code",
   "execution_count": 7,
   "metadata": {},
   "outputs": [],
   "source": [
    "y = np.array([-0.06, -0.09, -0.19,  0.  , -0.03, -0.18, -0.12, -0.31, -0.17,\n",
    "       -0.18,  0.09,  0.16, -0.28,  0.15, -0.04,  0.04,  0.06, -0.28,\n",
    "        0.18,  0.11,  0.27,  0.34,  0.11, -0.22, -0.18,  0.39, -0.29,\n",
    "       -0.06,  0.1 ,  0.08, -0.  , -0.02,  0.06, -0.35,  0.16,  0.28,\n",
    "       -0.03,  0.17,  0.37, -0.15,  0.19,  0.21, -0.29, -0.33,  0.08,\n",
    "       -0.24,  0.06,  0.02,  0.26,  0.07,  0.1 ,  0.09, -0.52,  0.03,\n",
    "        0.3 ,  0.1 , -0.15, -0.26, -0.26,  0.1 , -0.27,  0.11,  0.02,\n",
    "        0.1 ,  0.09, -0.23, -0.03, -0.21, -0.4 , -0.04, -0.17,  0.07,\n",
    "        0.08,  0.15,  0.27,  0.41,  0.07, -0.31, -0.29, -0.3 ,  0.06,\n",
    "       -0.1 ,  0.08, -0.29,  0.07, -0.2 ,  0.06, -0.25, -0.13, -0.34,\n",
    "        0.05,  0.21,  0.07,  0.13,  0.32, -0.26, -0.01, -0.17, -0.31,\n",
    "       -0.21,  0.11, -0.1 , -0.01,  0.16, -0.01,  0.1 , -0.1 , -0.28,\n",
    "        0.08, -0.09,  0.04, -0.07, -0.11, -0.35, -0.23,  0.05, -0.25,\n",
    "       -0.12,  0.15,  0.01,  0.17,  0.02, -0.01,  0.04, -0.21,  0.03,\n",
    "       -0.15,  0.08,  0.08, -0.38,  0.19, -0.18,  0.13, -0.03,  0.1 ,\n",
    "        0.1 , -0.05, -0.29, -0.36,  0.12, -0.42, -0.32, -0.  ,  0.22,\n",
    "        0.  , -0.36, -0.33,  0.06, -0.04,  0.18, -0.08, -0.22, -0.25,\n",
    "        0.09, -0.03, -0.17,  0.02, -0.09,  0.13,  0.24, -0.04,  0.15,\n",
    "       -0.44, -0.02, -0.24,  0.09,  0.17, -0.35, -0.15, -0.1 ,  0.08,\n",
    "        0.  ,  0.09,  0.22, -0.38,  0.06,  0.14, -0.26,  0.19,  0.41,\n",
    "        0.13, -0.13,  0.3 , -0.15, -0.02, -0.09, -0.07,  0.31,  0.04,\n",
    "       -0.02, -0.05,  0.07,  0.16, -0.21,  0.01, -0.2 , -0.09,  0.11,\n",
    "        0.08, -0.  ])"
   ]
  },
  {
   "cell_type": "code",
   "execution_count": 8,
   "metadata": {},
   "outputs": [
    {
     "data": {
      "text/plain": [
       "Text(0, 0.5, 'y')"
      ]
     },
     "execution_count": 8,
     "metadata": {},
     "output_type": "execute_result"
    },
    {
     "data": {
      "image/png": "[encoded data removed]",
      "text/plain": [
       "<Figure size 432x288 with 1 Axes>"
      ]
     },
     "metadata": {
      "needs_background": "light"
     },
     "output_type": "display_data"
    }
   ],
   "source": [
    "plt.plot(t, y, '.')\n",
    "plt.xlabel('t')\n",
    "plt.ylabel('y')"
   ]
  },
  {
   "cell_type": "markdown",
   "metadata": {},
   "source": [
    "### Steps\n",
    "1. Select performance measure (cost function):  Use MSE.\n",
    "2. Implement linear regression for the two models: Assume known model and number of features p, find the parameters theta.\n",
    "3. Visualize the fit and print the training cost function.\n",
    "4. Fit with a different model and a different p.\n",
    "5. Use 10-fold cross-validation to compare models.  Measure average cross-validated MSE.  Output: best model and best `p`.\n",
    "6. (In class or evaluation) use the testing data set to test the perfomance. "
   ]
  },
  {
   "cell_type": "markdown",
   "metadata": {},
   "source": [
    "### 1. Select performance measure (cost function):  Use MSE."
   ]
  },
  {
   "cell_type": "code",
   "execution_count": 9,
   "metadata": {},
   "outputs": [
    {
     "data": {
      "text/plain": [
       "array([[ 1.        ,  1.        ,  1.        , ...,  1.        ,\n",
       "         1.        ,  1.        ],\n",
       "       [ 0.0507979 ,  0.20814782, -0.20909526, ..., -0.43772052,\n",
       "         0.38424143, -0.05418982],\n",
       "       [-0.49612936, -0.43501173, -0.43441876, ..., -0.21260112,\n",
       "        -0.27853778, -0.49559519],\n",
       "       [-0.07586915, -0.28967645,  0.29078835, ...,  0.44691347,\n",
       "        -0.43453722,  0.08088691],\n",
       "       [ 0.36535253,  0.22074163,  0.21940975, ..., -0.18288975,\n",
       "        -0.08328926,  0.36402571],\n",
       "       [ 0.09410178,  0.31444556, -0.31521025, ..., -0.2134325 ,\n",
       "         0.29002404, -0.1002172 ]])"
      ]
     },
     "execution_count": 9,
     "metadata": {},
     "output_type": "execute_result"
    }
   ],
   "source": [
    "X"
   ]
  },
  {
   "cell_type": "code",
   "execution_count": 10,
   "metadata": {},
   "outputs": [
    {
     "data": {
      "text/plain": [
       "array([-0.49,  0.48, -0.19,  0.24, -0.08,  0.49, -0.21, -0.16, -0.13,\n",
       "        0.5 ,  0.09,  0.14, -0.27,  0.01,  0.37, -0.42, -0.45, -0.14,\n",
       "        0.17,  0.14, -0.38,  0.18, -0.45, -0.3 , -0.12,  0.02, -0.11,\n",
       "        0.38, -0.01,  0.12,  0.44,  0.32,  0.2 , -0.26,  0.04,  0.23,\n",
       "        0.18,  0.14,  0.15, -0.21, -0.41,  0.06, -0.25, -0.31, -0.42,\n",
       "       -0.09,  0.34, -0.05,  0.21,  0.26,  0.27,  0.27, -0.28, -0.49,\n",
       "        0.01,  0.29, -0.15,  0.34,  0.49,  0.03, -0.12,  0.15, -0.02,\n",
       "       -0.02,  0.24,  0.47, -0.06,  0.34, -0.29, -0.43, -0.09,  0.14,\n",
       "        0.23,  0.23,  0.08,  0.12, -0.42, -0.12, -0.19,  0.45, -0.36,\n",
       "       -0.08,  0.13, -0.16,  0.23,  0.44,  0.5 , -0.3 ,  0.45, -0.24,\n",
       "       -0.42,  0.28,  0.11, -0.47,  0.11, -0.27,  0.41,  0.46, -0.36,\n",
       "       -0.32, -0.05,  0.45, -0.08, -0.39, -0.34, -0.37,  0.32, -0.24,\n",
       "       -0.44, -0.03, -0.4 ,  0.47,  0.27, -0.32, -0.2 , -0.37, -0.13,\n",
       "       -0.07,  0.08, -0.44, -0.44,  0.43, -0.04,  0.09,  0.35, -0.02,\n",
       "       -0.12,  0.42, -0.39, -0.25, -0.45,  0.44, -0.02,  0.31, -0.48,\n",
       "        0.23, -0.07, -0.17,  0.4 ,  0.35, -0.2 ,  0.45, -0.1 ,  0.17,\n",
       "        0.21, -0.11, -0.3 ,  0.48,  0.31,  0.21,  0.2 ,  0.27,  0.47,\n",
       "       -0.39,  0.46,  0.31,  0.23,  0.5 , -0.43,  0.13, -0.34,  0.02,\n",
       "       -0.27,  0.3 , -0.18,  0.41,  0.17, -0.15,  0.29, -0.05, -0.39,\n",
       "        0.25,  0.28,  0.02, -0.21,  0.11,  0.16,  0.47,  0.1 ,  0.03,\n",
       "        0.22,  0.43,  0.16, -0.21, -0.16,  0.39,  0.25,  0.04, -0.4 ,\n",
       "        0.22,  0.46,  0.12,  0.15,  0.48, -0.48, -0.15, -0.42,  0.28,\n",
       "       -0.36,  0.31])"
      ]
     },
     "execution_count": 10,
     "metadata": {},
     "output_type": "execute_result"
    }
   ],
   "source": [
    "t"
   ]
  },
  {
   "cell_type": "code",
   "execution_count": 11,
   "metadata": {},
   "outputs": [
    {
     "data": {
      "text/plain": [
       "array([-0.06, -0.09, -0.19,  0.  , -0.03, -0.18, -0.12, -0.31, -0.17,\n",
       "       -0.18,  0.09,  0.16, -0.28,  0.15, -0.04,  0.04,  0.06, -0.28,\n",
       "        0.18,  0.11,  0.27,  0.34,  0.11, -0.22, -0.18,  0.39, -0.29,\n",
       "       -0.06,  0.1 ,  0.08, -0.  , -0.02,  0.06, -0.35,  0.16,  0.28,\n",
       "       -0.03,  0.17,  0.37, -0.15,  0.19,  0.21, -0.29, -0.33,  0.08,\n",
       "       -0.24,  0.06,  0.02,  0.26,  0.07,  0.1 ,  0.09, -0.52,  0.03,\n",
       "        0.3 ,  0.1 , -0.15, -0.26, -0.26,  0.1 , -0.27,  0.11,  0.02,\n",
       "        0.1 ,  0.09, -0.23, -0.03, -0.21, -0.4 , -0.04, -0.17,  0.07,\n",
       "        0.08,  0.15,  0.27,  0.41,  0.07, -0.31, -0.29, -0.3 ,  0.06,\n",
       "       -0.1 ,  0.08, -0.29,  0.07, -0.2 ,  0.06, -0.25, -0.13, -0.34,\n",
       "        0.05,  0.21,  0.07,  0.13,  0.32, -0.26, -0.01, -0.17, -0.31,\n",
       "       -0.21,  0.11, -0.1 , -0.01,  0.16, -0.01,  0.1 , -0.1 , -0.28,\n",
       "        0.08, -0.09,  0.04, -0.07, -0.11, -0.35, -0.23,  0.05, -0.25,\n",
       "       -0.12,  0.15,  0.01,  0.17,  0.02, -0.01,  0.04, -0.21,  0.03,\n",
       "       -0.15,  0.08,  0.08, -0.38,  0.19, -0.18,  0.13, -0.03,  0.1 ,\n",
       "        0.1 , -0.05, -0.29, -0.36,  0.12, -0.42, -0.32, -0.  ,  0.22,\n",
       "        0.  , -0.36, -0.33,  0.06, -0.04,  0.18, -0.08, -0.22, -0.25,\n",
       "        0.09, -0.03, -0.17,  0.02, -0.09,  0.13,  0.24, -0.04,  0.15,\n",
       "       -0.44, -0.02, -0.24,  0.09,  0.17, -0.35, -0.15, -0.1 ,  0.08,\n",
       "        0.  ,  0.09,  0.22, -0.38,  0.06,  0.14, -0.26,  0.19,  0.41,\n",
       "        0.13, -0.13,  0.3 , -0.15, -0.02, -0.09, -0.07,  0.31,  0.04,\n",
       "       -0.02, -0.05,  0.07,  0.16, -0.21,  0.01, -0.2 , -0.09,  0.11,\n",
       "        0.08, -0.  ])"
      ]
     },
     "execution_count": 11,
     "metadata": {},
     "output_type": "execute_result"
    }
   ],
   "source": [
    "y"
   ]
  },
  {
   "cell_type": "code",
   "execution_count": 12,
   "metadata": {},
   "outputs": [],
   "source": [
    "#https://stackoverflow.com/questions/46379095/convert-two-numpy-array-to-dataframe\n",
    "import pandas as pd\n",
    "import numpy as np"
   ]
  },
  {
   "cell_type": "code",
   "execution_count": 13,
   "metadata": {},
   "outputs": [],
   "source": [
    "dataset = pd.DataFrame({'t': list(t), 'Y': list(y)}, columns=['t', 'Y'])"
   ]
  },
  {
   "cell_type": "code",
   "execution_count": 14,
   "metadata": {},
   "outputs": [
    {
     "data": {
      "text/html": [
       "<div>\n",
       "<style scoped>\n",
       "    .dataframe tbody tr th:only-of-type {\n",
       "        vertical-align: middle;\n",
       "    }\n",
       "\n",
       "    .dataframe tbody tr th {\n",
       "        vertical-align: top;\n",
       "    }\n",
       "\n",
       "    .dataframe thead th {\n",
       "        text-align: right;\n",
       "    }\n",
       "</style>\n",
       "<table border=\"1\" class=\"dataframe\">\n",
       "  <thead>\n",
       "    <tr style=\"text-align: right;\">\n",
       "      <th></th>\n",
       "      <th>t</th>\n",
       "      <th>Y</th>\n",
       "    </tr>\n",
       "  </thead>\n",
       "  <tbody>\n",
       "    <tr>\n",
       "      <th>0</th>\n",
       "      <td>-0.49</td>\n",
       "      <td>-0.06</td>\n",
       "    </tr>\n",
       "    <tr>\n",
       "      <th>1</th>\n",
       "      <td>0.48</td>\n",
       "      <td>-0.09</td>\n",
       "    </tr>\n",
       "    <tr>\n",
       "      <th>2</th>\n",
       "      <td>-0.19</td>\n",
       "      <td>-0.19</td>\n",
       "    </tr>\n",
       "    <tr>\n",
       "      <th>3</th>\n",
       "      <td>0.24</td>\n",
       "      <td>0.00</td>\n",
       "    </tr>\n",
       "    <tr>\n",
       "      <th>4</th>\n",
       "      <td>-0.08</td>\n",
       "      <td>-0.03</td>\n",
       "    </tr>\n",
       "    <tr>\n",
       "      <th>...</th>\n",
       "      <td>...</td>\n",
       "      <td>...</td>\n",
       "    </tr>\n",
       "    <tr>\n",
       "      <th>195</th>\n",
       "      <td>-0.15</td>\n",
       "      <td>-0.20</td>\n",
       "    </tr>\n",
       "    <tr>\n",
       "      <th>196</th>\n",
       "      <td>-0.42</td>\n",
       "      <td>-0.09</td>\n",
       "    </tr>\n",
       "    <tr>\n",
       "      <th>197</th>\n",
       "      <td>0.28</td>\n",
       "      <td>0.11</td>\n",
       "    </tr>\n",
       "    <tr>\n",
       "      <th>198</th>\n",
       "      <td>-0.36</td>\n",
       "      <td>0.08</td>\n",
       "    </tr>\n",
       "    <tr>\n",
       "      <th>199</th>\n",
       "      <td>0.31</td>\n",
       "      <td>-0.00</td>\n",
       "    </tr>\n",
       "  </tbody>\n",
       "</table>\n",
       "<p>200 rows × 2 columns</p>\n",
       "</div>"
      ],
      "text/plain": [
       "        t     Y\n",
       "0   -0.49 -0.06\n",
       "1    0.48 -0.09\n",
       "2   -0.19 -0.19\n",
       "3    0.24  0.00\n",
       "4   -0.08 -0.03\n",
       "..    ...   ...\n",
       "195 -0.15 -0.20\n",
       "196 -0.42 -0.09\n",
       "197  0.28  0.11\n",
       "198 -0.36  0.08\n",
       "199  0.31 -0.00\n",
       "\n",
       "[200 rows x 2 columns]"
      ]
     },
     "execution_count": 14,
     "metadata": {},
     "output_type": "execute_result"
    }
   ],
   "source": [
    "dataset \n",
    "\n",
    "#not sure.... \n",
    "\n",
    "#What is our DATA????? t & y...."
   ]
  },
  {
   "cell_type": "code",
   "execution_count": 15,
   "metadata": {},
   "outputs": [],
   "source": [
    "t=t.reshape(-1, 1) \n",
    "#re-shape array fro linear regression from 1d to 2d"
   ]
  },
  {
   "cell_type": "code",
   "execution_count": 16,
   "metadata": {},
   "outputs": [
    {
     "data": {
      "text/plain": [
       "array([[-0.49],\n",
       "       [ 0.48],\n",
       "       [-0.19],\n",
       "       [ 0.24],\n",
       "       [-0.08],\n",
       "       [ 0.49],\n",
       "       [-0.21],\n",
       "       [-0.16],\n",
       "       [-0.13],\n",
       "       [ 0.5 ],\n",
       "       [ 0.09],\n",
       "       [ 0.14],\n",
       "       [-0.27],\n",
       "       [ 0.01],\n",
       "       [ 0.37],\n",
       "       [-0.42],\n",
       "       [-0.45],\n",
       "       [-0.14],\n",
       "       [ 0.17],\n",
       "       [ 0.14],\n",
       "       [-0.38],\n",
       "       [ 0.18],\n",
       "       [-0.45],\n",
       "       [-0.3 ],\n",
       "       [-0.12],\n",
       "       [ 0.02],\n",
       "       [-0.11],\n",
       "       [ 0.38],\n",
       "       [-0.01],\n",
       "       [ 0.12],\n",
       "       [ 0.44],\n",
       "       [ 0.32],\n",
       "       [ 0.2 ],\n",
       "       [-0.26],\n",
       "       [ 0.04],\n",
       "       [ 0.23],\n",
       "       [ 0.18],\n",
       "       [ 0.14],\n",
       "       [ 0.15],\n",
       "       [-0.21],\n",
       "       [-0.41],\n",
       "       [ 0.06],\n",
       "       [-0.25],\n",
       "       [-0.31],\n",
       "       [-0.42],\n",
       "       [-0.09],\n",
       "       [ 0.34],\n",
       "       [-0.05],\n",
       "       [ 0.21],\n",
       "       [ 0.26],\n",
       "       [ 0.27],\n",
       "       [ 0.27],\n",
       "       [-0.28],\n",
       "       [-0.49],\n",
       "       [ 0.01],\n",
       "       [ 0.29],\n",
       "       [-0.15],\n",
       "       [ 0.34],\n",
       "       [ 0.49],\n",
       "       [ 0.03],\n",
       "       [-0.12],\n",
       "       [ 0.15],\n",
       "       [-0.02],\n",
       "       [-0.02],\n",
       "       [ 0.24],\n",
       "       [ 0.47],\n",
       "       [-0.06],\n",
       "       [ 0.34],\n",
       "       [-0.29],\n",
       "       [-0.43],\n",
       "       [-0.09],\n",
       "       [ 0.14],\n",
       "       [ 0.23],\n",
       "       [ 0.23],\n",
       "       [ 0.08],\n",
       "       [ 0.12],\n",
       "       [-0.42],\n",
       "       [-0.12],\n",
       "       [-0.19],\n",
       "       [ 0.45],\n",
       "       [-0.36],\n",
       "       [-0.08],\n",
       "       [ 0.13],\n",
       "       [-0.16],\n",
       "       [ 0.23],\n",
       "       [ 0.44],\n",
       "       [ 0.5 ],\n",
       "       [-0.3 ],\n",
       "       [ 0.45],\n",
       "       [-0.24],\n",
       "       [-0.42],\n",
       "       [ 0.28],\n",
       "       [ 0.11],\n",
       "       [-0.47],\n",
       "       [ 0.11],\n",
       "       [-0.27],\n",
       "       [ 0.41],\n",
       "       [ 0.46],\n",
       "       [-0.36],\n",
       "       [-0.32],\n",
       "       [-0.05],\n",
       "       [ 0.45],\n",
       "       [-0.08],\n",
       "       [-0.39],\n",
       "       [-0.34],\n",
       "       [-0.37],\n",
       "       [ 0.32],\n",
       "       [-0.24],\n",
       "       [-0.44],\n",
       "       [-0.03],\n",
       "       [-0.4 ],\n",
       "       [ 0.47],\n",
       "       [ 0.27],\n",
       "       [-0.32],\n",
       "       [-0.2 ],\n",
       "       [-0.37],\n",
       "       [-0.13],\n",
       "       [-0.07],\n",
       "       [ 0.08],\n",
       "       [-0.44],\n",
       "       [-0.44],\n",
       "       [ 0.43],\n",
       "       [-0.04],\n",
       "       [ 0.09],\n",
       "       [ 0.35],\n",
       "       [-0.02],\n",
       "       [-0.12],\n",
       "       [ 0.42],\n",
       "       [-0.39],\n",
       "       [-0.25],\n",
       "       [-0.45],\n",
       "       [ 0.44],\n",
       "       [-0.02],\n",
       "       [ 0.31],\n",
       "       [-0.48],\n",
       "       [ 0.23],\n",
       "       [-0.07],\n",
       "       [-0.17],\n",
       "       [ 0.4 ],\n",
       "       [ 0.35],\n",
       "       [-0.2 ],\n",
       "       [ 0.45],\n",
       "       [-0.1 ],\n",
       "       [ 0.17],\n",
       "       [ 0.21],\n",
       "       [-0.11],\n",
       "       [-0.3 ],\n",
       "       [ 0.48],\n",
       "       [ 0.31],\n",
       "       [ 0.21],\n",
       "       [ 0.2 ],\n",
       "       [ 0.27],\n",
       "       [ 0.47],\n",
       "       [-0.39],\n",
       "       [ 0.46],\n",
       "       [ 0.31],\n",
       "       [ 0.23],\n",
       "       [ 0.5 ],\n",
       "       [-0.43],\n",
       "       [ 0.13],\n",
       "       [-0.34],\n",
       "       [ 0.02],\n",
       "       [-0.27],\n",
       "       [ 0.3 ],\n",
       "       [-0.18],\n",
       "       [ 0.41],\n",
       "       [ 0.17],\n",
       "       [-0.15],\n",
       "       [ 0.29],\n",
       "       [-0.05],\n",
       "       [-0.39],\n",
       "       [ 0.25],\n",
       "       [ 0.28],\n",
       "       [ 0.02],\n",
       "       [-0.21],\n",
       "       [ 0.11],\n",
       "       [ 0.16],\n",
       "       [ 0.47],\n",
       "       [ 0.1 ],\n",
       "       [ 0.03],\n",
       "       [ 0.22],\n",
       "       [ 0.43],\n",
       "       [ 0.16],\n",
       "       [-0.21],\n",
       "       [-0.16],\n",
       "       [ 0.39],\n",
       "       [ 0.25],\n",
       "       [ 0.04],\n",
       "       [-0.4 ],\n",
       "       [ 0.22],\n",
       "       [ 0.46],\n",
       "       [ 0.12],\n",
       "       [ 0.15],\n",
       "       [ 0.48],\n",
       "       [-0.48],\n",
       "       [-0.15],\n",
       "       [-0.42],\n",
       "       [ 0.28],\n",
       "       [-0.36],\n",
       "       [ 0.31]])"
      ]
     },
     "execution_count": 16,
     "metadata": {},
     "output_type": "execute_result"
    }
   ],
   "source": [
    "t"
   ]
  },
  {
   "cell_type": "code",
   "execution_count": 20,
   "metadata": {},
   "outputs": [
    {
     "data": {
      "text/html": [
       "<div>\n",
       "<style scoped>\n",
       "    .dataframe tbody tr th:only-of-type {\n",
       "        vertical-align: middle;\n",
       "    }\n",
       "\n",
       "    .dataframe tbody tr th {\n",
       "        vertical-align: top;\n",
       "    }\n",
       "\n",
       "    .dataframe thead th {\n",
       "        text-align: right;\n",
       "    }\n",
       "</style>\n",
       "<table border=\"1\" class=\"dataframe\">\n",
       "  <thead>\n",
       "    <tr style=\"text-align: right;\">\n",
       "      <th></th>\n",
       "      <th>t</th>\n",
       "      <th>Y</th>\n",
       "    </tr>\n",
       "  </thead>\n",
       "  <tbody>\n",
       "    <tr>\n",
       "      <th>0</th>\n",
       "      <td>-0.49</td>\n",
       "      <td>-0.06</td>\n",
       "    </tr>\n",
       "    <tr>\n",
       "      <th>1</th>\n",
       "      <td>0.48</td>\n",
       "      <td>-0.09</td>\n",
       "    </tr>\n",
       "    <tr>\n",
       "      <th>2</th>\n",
       "      <td>-0.19</td>\n",
       "      <td>-0.19</td>\n",
       "    </tr>\n",
       "    <tr>\n",
       "      <th>3</th>\n",
       "      <td>0.24</td>\n",
       "      <td>0.00</td>\n",
       "    </tr>\n",
       "    <tr>\n",
       "      <th>4</th>\n",
       "      <td>-0.08</td>\n",
       "      <td>-0.03</td>\n",
       "    </tr>\n",
       "    <tr>\n",
       "      <th>...</th>\n",
       "      <td>...</td>\n",
       "      <td>...</td>\n",
       "    </tr>\n",
       "    <tr>\n",
       "      <th>195</th>\n",
       "      <td>-0.15</td>\n",
       "      <td>-0.20</td>\n",
       "    </tr>\n",
       "    <tr>\n",
       "      <th>196</th>\n",
       "      <td>-0.42</td>\n",
       "      <td>-0.09</td>\n",
       "    </tr>\n",
       "    <tr>\n",
       "      <th>197</th>\n",
       "      <td>0.28</td>\n",
       "      <td>0.11</td>\n",
       "    </tr>\n",
       "    <tr>\n",
       "      <th>198</th>\n",
       "      <td>-0.36</td>\n",
       "      <td>0.08</td>\n",
       "    </tr>\n",
       "    <tr>\n",
       "      <th>199</th>\n",
       "      <td>0.31</td>\n",
       "      <td>-0.00</td>\n",
       "    </tr>\n",
       "  </tbody>\n",
       "</table>\n",
       "<p>200 rows × 2 columns</p>\n",
       "</div>"
      ],
      "text/plain": [
       "        t     Y\n",
       "0   -0.49 -0.06\n",
       "1    0.48 -0.09\n",
       "2   -0.19 -0.19\n",
       "3    0.24  0.00\n",
       "4   -0.08 -0.03\n",
       "..    ...   ...\n",
       "195 -0.15 -0.20\n",
       "196 -0.42 -0.09\n",
       "197  0.28  0.11\n",
       "198 -0.36  0.08\n",
       "199  0.31 -0.00\n",
       "\n",
       "[200 rows x 2 columns]"
      ]
     },
     "execution_count": 20,
     "metadata": {},
     "output_type": "execute_result"
    }
   ],
   "source": [
    "dataset"
   ]
  },
  {
   "cell_type": "code",
   "execution_count": 21,
   "metadata": {},
   "outputs": [
    {
     "data": {
      "text/plain": [
       "LinearRegression()"
      ]
     },
     "execution_count": 21,
     "metadata": {},
     "output_type": "execute_result"
    }
   ],
   "source": [
    "#need to create lin_reg for MSE\n",
    "from sklearn.linear_model import LinearRegression\n",
    "\n",
    "lin_reg = LinearRegression()\n",
    "lin_reg.fit(t,y)"
   ]
  },
  {
   "cell_type": "code",
   "execution_count": 22,
   "metadata": {},
   "outputs": [],
   "source": [
    "from sklearn.metrics import mean_squared_error"
   ]
  },
  {
   "cell_type": "code",
   "execution_count": 29,
   "metadata": {},
   "outputs": [],
   "source": [
    "#creating MSE\n",
    "ty_predictions = lin_reg.predict(t)"
   ]
  },
  {
   "cell_type": "code",
   "execution_count": 31,
   "metadata": {},
   "outputs": [
    {
     "data": {
      "text/plain": [
       "0.2849429826659332"
      ]
     },
     "execution_count": 31,
     "metadata": {},
     "output_type": "execute_result"
    }
   ],
   "source": [
    "lin_mse = mean_squared_error(t,ty_predictions)\n",
    "lin_rmse = np.sqrt(lin_mse)\n",
    "lin_rmse\n",
    "\n",
    "#what does this mean? did i just predict t? or what? "
   ]
  },
  {
   "cell_type": "code",
   "execution_count": 33,
   "metadata": {},
   "outputs": [
    {
     "data": {
      "text/plain": [
       "0.15825105821474877"
      ]
     },
     "execution_count": 33,
     "metadata": {},
     "output_type": "execute_result"
    }
   ],
   "source": [
    "from sklearn.metrics import mean_absolute_error\n",
    "\n",
    "lin_mae = mean_absolute_error(y, ty_predictions)\n",
    "lin_mae\n",
    "\n",
    "# what does it tell me? is it good bad? what is it? "
   ]
  },
  {
   "cell_type": "markdown",
   "metadata": {},
   "source": [
    "### 2. Implement linear regression for the two models: Assume known model and number of features p, find the parameters theta."
   ]
  },
  {
   "cell_type": "code",
   "execution_count": 36,
   "metadata": {},
   "outputs": [
    {
     "data": {
      "text/plain": [
       "LinearRegression()"
      ]
     },
     "execution_count": 36,
     "metadata": {},
     "output_type": "execute_result"
    }
   ],
   "source": [
    "# Select a linear model\n",
    "model = sklearn.linear_model.LinearRegression()\n",
    "\n",
    "# Train the model\n",
    "model.fit(t, y)"
   ]
  },
  {
   "cell_type": "code",
   "execution_count": 37,
   "metadata": {},
   "outputs": [
    {
     "name": "stdout",
     "output_type": "stream",
     "text": [
      "[332.35949699]\n"
     ]
    }
   ],
   "source": [
    "# Make a prediction\n",
    "t_new = [[6666]]\n",
    "print(model.predict(t_new)) "
   ]
  },
  {
   "cell_type": "code",
   "execution_count": 43,
   "metadata": {},
   "outputs": [
    {
     "data": {
      "image/png": "[encoded data removed]",
      "text/plain": [
       "<Figure size 432x288 with 1 Axes>"
      ]
     },
     "metadata": {
      "needs_background": "light"
     },
     "output_type": "display_data"
    }
   ],
   "source": [
    "plt.plot(t, y, \"b.\")\n",
    "plt.xlabel(\"$x_1$\", fontsize=18)\n",
    "plt.ylabel(\"$y$\", rotation=0, fontsize=18)\n",
    "plt.show()"
   ]
  },
  {
   "cell_type": "code",
   "execution_count": 45,
   "metadata": {},
   "outputs": [],
   "source": [
    "T_b = np.c_[np.ones((200, 1)), t]  # add x0 = 1 to each instance\n",
    "theta_best = np.linalg.inv(T_b.T.dot(T_b)).dot(T_b.T).dot(y)"
   ]
  },
  {
   "cell_type": "code",
   "execution_count": 46,
   "metadata": {},
   "outputs": [
    {
     "data": {
      "text/plain": [
       "array([-0.03047401,  0.04986348])"
      ]
     },
     "execution_count": 46,
     "metadata": {},
     "output_type": "execute_result"
    }
   ],
   "source": [
    "theta_best"
   ]
  },
  {
   "cell_type": "code",
   "execution_count": 47,
   "metadata": {},
   "outputs": [
    {
     "data": {
      "text/plain": [
       "array([-0.03047401,  0.06925295])"
      ]
     },
     "execution_count": 47,
     "metadata": {},
     "output_type": "execute_result"
    }
   ],
   "source": [
    "T_new = np.array([[0], [2]])\n",
    "T_new_b = np.c_[np.ones((2, 1)), T_new]  # add x0 = 1 to each instance\n",
    "y_predict = T_new_b.dot(theta_best)\n",
    "y_predict"
   ]
  },
  {
   "cell_type": "code",
   "execution_count": 53,
   "metadata": {},
   "outputs": [
    {
     "data": {
      "text/plain": [
       "array([[0],\n",
       "       [2]])"
      ]
     },
     "execution_count": 53,
     "metadata": {},
     "output_type": "execute_result"
    }
   ],
   "source": [
    "T_new"
   ]
  },
  {
   "cell_type": "code",
   "execution_count": 54,
   "metadata": {},
   "outputs": [
    {
     "data": {
      "text/plain": [
       "array([-0.03047401,  0.06925295])"
      ]
     },
     "execution_count": 54,
     "metadata": {},
     "output_type": "execute_result"
    }
   ],
   "source": [
    "y_predict"
   ]
  },
  {
   "cell_type": "code",
   "execution_count": 57,
   "metadata": {},
   "outputs": [
    {
     "data": {
      "image/png": "[encoded data removed]",
      "text/plain": [
       "<Figure size 432x288 with 1 Axes>"
      ]
     },
     "metadata": {
      "needs_background": "light"
     },
     "output_type": "display_data"
    }
   ],
   "source": [
    "plt.plot(T_new, y_predict, \"r-\") #r- make the line red\n",
    "plt.plot(t, y, \"b.\")\n",
    "plt.xlabel(\"$x_1$\", fontsize=18)\n",
    "plt.ylabel(\"$y$\", rotation=0, fontsize=18)\n",
    "plt.show()\n",
    "\n",
    "#what just happened? why do i have negative numbers? "
   ]
  },
  {
   "cell_type": "code",
   "execution_count": 61,
   "metadata": {},
   "outputs": [
    {
     "data": {
      "image/png": "[encoded data removed]",
      "text/plain": [
       "<Figure size 432x288 with 1 Axes>"
      ]
     },
     "metadata": {
      "needs_background": "light"
     },
     "output_type": "display_data"
    }
   ],
   "source": [
    "plt.plot(T_new, y_predict, \"r-\", linewidth=2, label=\"Predictions\")\n",
    "plt.plot(t, y, \"b.\")\n",
    "plt.xlabel(\"$x_1$\", fontsize=18)\n",
    "plt.ylabel(\"$y$\", rotation=0, fontsize=18)\n",
    "plt.legend(loc=\"upper left\", fontsize=14)\n",
    "plt.show()\n",
    "\n",
    "#it looks weird.... "
   ]
  },
  {
   "cell_type": "code",
   "execution_count": 62,
   "metadata": {},
   "outputs": [
    {
     "data": {
      "text/plain": [
       "(-0.030474011965049067, array([0.04986348]))"
      ]
     },
     "execution_count": 62,
     "metadata": {},
     "output_type": "execute_result"
    }
   ],
   "source": [
    "from sklearn.linear_model import LinearRegression\n",
    "\n",
    "lin_reg = LinearRegression()\n",
    "lin_reg.fit(t, y)\n",
    "lin_reg.intercept_, lin_reg.coef_"
   ]
  },
  {
   "cell_type": "code",
   "execution_count": 63,
   "metadata": {},
   "outputs": [
    {
     "data": {
      "text/plain": [
       "array([332.35949699])"
      ]
     },
     "execution_count": 63,
     "metadata": {},
     "output_type": "execute_result"
    }
   ],
   "source": [
    "lin_reg.predict(t_new)"
   ]
  },
  {
   "cell_type": "code",
   "execution_count": 64,
   "metadata": {},
   "outputs": [
    {
     "data": {
      "text/plain": [
       "array([-0.03047401,  0.04986348])"
      ]
     },
     "execution_count": 64,
     "metadata": {},
     "output_type": "execute_result"
    }
   ],
   "source": [
    "theta_best_svd, residuals, rank, s = np.linalg.lstsq(T_b, y, rcond=1e-6)\n",
    "theta_best_svd"
   ]
  },
  {
   "cell_type": "code",
   "execution_count": 65,
   "metadata": {},
   "outputs": [
    {
     "data": {
      "text/plain": [
       "array([-0.03047401,  0.04986348])"
      ]
     },
     "execution_count": 65,
     "metadata": {},
     "output_type": "execute_result"
    }
   ],
   "source": [
    "np.linalg.pinv(T_b).dot(y)"
   ]
  },
  {
   "cell_type": "code",
   "execution_count": null,
   "metadata": {},
   "outputs": [],
   "source": []
  }
 ],
 "metadata": {
  "kernelspec": {
   "display_name": "Python 3",
   "language": "python",
   "name": "python3"
  },
  "language_info": {
   "codemirror_mode": {
    "name": "ipython",
    "version": 3
   },
   "file_extension": ".py",
   "mimetype": "text/x-python",
   "name": "python",
   "nbconvert_exporter": "python",
   "pygments_lexer": "ipython3",
   "version": "3.8.3"
  }
 },
 "nbformat": 4,
 "nbformat_minor": 4
}
